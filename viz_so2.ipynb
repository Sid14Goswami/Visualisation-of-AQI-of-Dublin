{
 "cells": [
  {
   "cell_type": "code",
   "execution_count": null,
   "metadata": {
    "colab": {
     "base_uri": "https://localhost:8080/"
    },
    "executionInfo": {
     "elapsed": 1081,
     "status": "ok",
     "timestamp": 1610061339157,
     "user": {
      "displayName": "Shubham Katmusare",
      "photoUrl": "https://lh3.googleusercontent.com/a-/AOh14Gj0aHSrsxT_vVgw0JFkHlkM7hbeIKeorp3m9wbC_w=s64",
      "userId": "10929947803019555148"
     },
     "user_tz": 0
    },
    "id": "VMOyVuaG8zL9",
    "outputId": "cb6042d0-f48b-4657-9347-5bf37ed5bdf1"
   },
   "outputs": [
    {
     "name": "stdout",
     "output_type": "stream",
     "text": [
      "co.xlsx       no-no2.xlsx  viz_co.ipynb   whole_analysis.ipynb\n",
      "No_No2.ipynb  SO2.xlsx     viz_so2.ipynb\n"
     ]
    }
   ],
   "source": [
    "%ls"
   ]
  },
  {
   "cell_type": "code",
   "execution_count": null,
   "metadata": {
    "colab": {
     "base_uri": "https://localhost:8080/"
    },
    "executionInfo": {
     "elapsed": 1299,
     "status": "ok",
     "timestamp": 1610061339591,
     "user": {
      "displayName": "Shubham Katmusare",
      "photoUrl": "https://lh3.googleusercontent.com/a-/AOh14Gj0aHSrsxT_vVgw0JFkHlkM7hbeIKeorp3m9wbC_w=s64",
      "userId": "10929947803019555148"
     },
     "user_tz": 0
    },
    "id": "hWLnuUeW-VYc",
    "outputId": "fa36d5d8-e5ea-41a3-9763-105de67b3cea"
   },
   "outputs": [
    {
     "name": "stdout",
     "output_type": "stream",
     "text": [
      "/content/drive/MyDrive/Colab_Notebooks/NCI/DAP- CA1/DAP\n"
     ]
    }
   ],
   "source": [
    "%cd /content/drive/MyDrive/Colab_Notebooks/NCI/DAP- CA1/DAP"
   ]
  },
  {
   "cell_type": "code",
   "execution_count": null,
   "metadata": {
    "colab": {
     "base_uri": "https://localhost:8080/"
    },
    "executionInfo": {
     "elapsed": 1159,
     "status": "ok",
     "timestamp": 1610061339593,
     "user": {
      "displayName": "Shubham Katmusare",
      "photoUrl": "https://lh3.googleusercontent.com/a-/AOh14Gj0aHSrsxT_vVgw0JFkHlkM7hbeIKeorp3m9wbC_w=s64",
      "userId": "10929947803019555148"
     },
     "user_tz": 0
    },
    "id": "YJGRNAYF-hDk",
    "outputId": "5a8633ac-4c9e-4246-caf5-0a807eef8ded"
   },
   "outputs": [
    {
     "name": "stdout",
     "output_type": "stream",
     "text": [
      "co.xlsx       no-no2.xlsx  viz_co.ipynb   whole_analysis.ipynb\n",
      "No_No2.ipynb  SO2.xlsx     viz_so2.ipynb\n"
     ]
    }
   ],
   "source": [
    "%ls"
   ]
  },
  {
   "cell_type": "code",
   "execution_count": null,
   "metadata": {
    "id": "jjOFMdsg-iTU"
   },
   "outputs": [],
   "source": [
    "import pandas as pd\n",
    "import matplotlib.pyplot as plt"
   ]
  },
  {
   "cell_type": "code",
   "execution_count": null,
   "metadata": {
    "id": "bn8YwnR6_HVm"
   },
   "outputs": [],
   "source": [
    "df = pd.read_excel('SO2.xlsx')"
   ]
  },
  {
   "cell_type": "code",
   "execution_count": null,
   "metadata": {
    "colab": {
     "base_uri": "https://localhost:8080/",
     "height": 302
    },
    "executionInfo": {
     "elapsed": 3171,
     "status": "ok",
     "timestamp": 1610061342221,
     "user": {
      "displayName": "Shubham Katmusare",
      "photoUrl": "https://lh3.googleusercontent.com/a-/AOh14Gj0aHSrsxT_vVgw0JFkHlkM7hbeIKeorp3m9wbC_w=s64",
      "userId": "10929947803019555148"
     },
     "user_tz": 0
    },
    "id": "LKUKGer__MBO",
    "outputId": "71ed07d1-ff33-43a1-8212-72194afa6430"
   },
   "outputs": [
    {
     "data": {
      "text/html": [
       "<div>\n",
       "<style scoped>\n",
       "    .dataframe tbody tr th:only-of-type {\n",
       "        vertical-align: middle;\n",
       "    }\n",
       "\n",
       "    .dataframe tbody tr th {\n",
       "        vertical-align: top;\n",
       "    }\n",
       "\n",
       "    .dataframe thead th {\n",
       "        text-align: right;\n",
       "    }\n",
       "</style>\n",
       "<table border=\"1\" class=\"dataframe\">\n",
       "  <thead>\n",
       "    <tr style=\"text-align: right;\">\n",
       "      <th></th>\n",
       "      <th>Index</th>\n",
       "      <th>Date</th>\n",
       "      <th>Time</th>\n",
       "      <th>South Dublin - SO2 ug/m3</th>\n",
       "      <th>North Dublin - SO2 ug/m3</th>\n",
       "      <th>Dublin</th>\n",
       "      <th>Unnamed: 6</th>\n",
       "      <th>Unnamed: 7</th>\n",
       "    </tr>\n",
       "  </thead>\n",
       "  <tbody>\n",
       "    <tr>\n",
       "      <th>8755</th>\n",
       "      <td>8756</td>\n",
       "      <td>2011-12-31</td>\n",
       "      <td>19</td>\n",
       "      <td>0.1</td>\n",
       "      <td>-0.6</td>\n",
       "      <td>-0.25</td>\n",
       "      <td>NaN</td>\n",
       "      <td>NaN</td>\n",
       "    </tr>\n",
       "    <tr>\n",
       "      <th>8756</th>\n",
       "      <td>8757</td>\n",
       "      <td>2011-12-31</td>\n",
       "      <td>20</td>\n",
       "      <td>0.2</td>\n",
       "      <td>-1.0</td>\n",
       "      <td>-0.40</td>\n",
       "      <td>NaN</td>\n",
       "      <td>NaN</td>\n",
       "    </tr>\n",
       "    <tr>\n",
       "      <th>8757</th>\n",
       "      <td>8758</td>\n",
       "      <td>2011-12-31</td>\n",
       "      <td>21</td>\n",
       "      <td>0.3</td>\n",
       "      <td>-0.6</td>\n",
       "      <td>-0.15</td>\n",
       "      <td>NaN</td>\n",
       "      <td>NaN</td>\n",
       "    </tr>\n",
       "    <tr>\n",
       "      <th>8758</th>\n",
       "      <td>8759</td>\n",
       "      <td>2011-12-31</td>\n",
       "      <td>22</td>\n",
       "      <td>0.1</td>\n",
       "      <td>-0.5</td>\n",
       "      <td>-0.20</td>\n",
       "      <td>NaN</td>\n",
       "      <td>NaN</td>\n",
       "    </tr>\n",
       "    <tr>\n",
       "      <th>8759</th>\n",
       "      <td>8760</td>\n",
       "      <td>2011-12-31</td>\n",
       "      <td>23</td>\n",
       "      <td>0.3</td>\n",
       "      <td>-0.6</td>\n",
       "      <td>-0.15</td>\n",
       "      <td>NaN</td>\n",
       "      <td>NaN</td>\n",
       "    </tr>\n",
       "  </tbody>\n",
       "</table>\n",
       "</div>"
      ],
      "text/plain": [
       "      Index       Date  Time  ...  Dublin  Unnamed: 6  Unnamed: 7\n",
       "8755   8756 2011-12-31    19  ...   -0.25         NaN         NaN\n",
       "8756   8757 2011-12-31    20  ...   -0.40         NaN         NaN\n",
       "8757   8758 2011-12-31    21  ...   -0.15         NaN         NaN\n",
       "8758   8759 2011-12-31    22  ...   -0.20         NaN         NaN\n",
       "8759   8760 2011-12-31    23  ...   -0.15         NaN         NaN\n",
       "\n",
       "[5 rows x 8 columns]"
      ]
     },
     "execution_count": 42,
     "metadata": {
      "tags": []
     },
     "output_type": "execute_result"
    }
   ],
   "source": [
    "df.tail()"
   ]
  },
  {
   "cell_type": "code",
   "execution_count": null,
   "metadata": {
    "id": "BY_LP3vRD8Oi"
   },
   "outputs": [],
   "source": [
    "del df[\"Unnamed: 6\"]\n",
    "del df[\"Unnamed: 7\"]"
   ]
  },
  {
   "cell_type": "code",
   "execution_count": null,
   "metadata": {
    "id": "ZxdpA3dcNrrk"
   },
   "outputs": [],
   "source": [
    "# give df['Date']\n",
    "def month(month):\n",
    "  l = month\n",
    "  x= []\n",
    "  \n",
    "  for i in l:\n",
    "    x .append(str(i)[5:7])\n",
    "  \n",
    "  x = [word.replace('01','JAN') for word in x]\n",
    "  x = [word.replace('02','FEB') for word in x]\n",
    "  x = [word.replace('03','MAR') for word in x]\n",
    "  x = [word.replace('04','APR') for word in x]\n",
    "  x = [word.replace('05','MAY') for word in x]\n",
    "  x = [word.replace('06','JUNE') for word in x]\n",
    "  x = [word.replace('07','JULY') for word in x]\n",
    "  x = [word.replace('08','AUG') for word in x]\n",
    "  x = [word.replace('09','SEPT') for word in x]\n",
    "  x = [word.replace('10','OCT') for word in x]\n",
    "  x = [word.replace('11','NOV') for word in x]\n",
    "  x = [word.replace('12','DEC') for word in x]\n",
    "\n",
    "  season = x\n",
    "  \n",
    "  season = [word.replace('JAN','Winter') for word in season]\n",
    "  season = [word.replace('FEB','Winter') for word in season]\n",
    "  season = [word.replace('MAR','Summer') for word in season]\n",
    "  season = [word.replace('APR','Summer') for word in season]\n",
    "  season = [word.replace('MAY','Summer') for word in season]\n",
    "  season = [word.replace('JUNE','Rainy') for word in season]\n",
    "  season = [word.replace('JULY','Rainy') for word in season]\n",
    "  season = [word.replace('AUG','Rainy') for word in season]\n",
    "  season = [word.replace('SEPT','Winter') for word in season]\n",
    "  season = [word.replace('OCT','Winter') for word in season]\n",
    "  season = [word.replace('NOV','Winter') for word in season]\n",
    "  season = [word.replace('DEC','Winter') for word in season]\n",
    "\n",
    "  return x,season"
   ]
  },
  {
   "cell_type": "code",
   "execution_count": null,
   "metadata": {
    "id": "S5CR44ZA6Lhb"
   },
   "outputs": [],
   "source": [
    "month, season = month(df[\"Date\"])"
   ]
  },
  {
   "cell_type": "code",
   "execution_count": null,
   "metadata": {
    "id": "ue9lSOwUOH3h"
   },
   "outputs": [],
   "source": [
    "df['Month'] = month\n",
    "df['Season'] = season\n",
    "df['South Dublin - SO2 ug/m3'] = df['South Dublin - SO2 ug/m3'].abs()\n",
    "df['North Dublin - SO2 ug/m3'] = df['North Dublin - SO2 ug/m3'].abs()\n",
    "df['Dublin'] = df['Dublin'].abs()\n"
   ]
  },
  {
   "cell_type": "code",
   "execution_count": null,
   "metadata": {
    "id": "8jO0sU_vRKDz"
   },
   "outputs": [],
   "source": [
    "del df['Index']"
   ]
  },
  {
   "cell_type": "code",
   "execution_count": null,
   "metadata": {
    "colab": {
     "base_uri": "https://localhost:8080/",
     "height": 198
    },
    "executionInfo": {
     "elapsed": 959,
     "status": "ok",
     "timestamp": 1610061347182,
     "user": {
      "displayName": "Shubham Katmusare",
      "photoUrl": "https://lh3.googleusercontent.com/a-/AOh14Gj0aHSrsxT_vVgw0JFkHlkM7hbeIKeorp3m9wbC_w=s64",
      "userId": "10929947803019555148"
     },
     "user_tz": 0
    },
    "id": "_uptkXMYOVCU",
    "outputId": "83cf61fa-4f27-42a9-b937-1c3429b01f8f"
   },
   "outputs": [
    {
     "data": {
      "text/html": [
       "<div>\n",
       "<style scoped>\n",
       "    .dataframe tbody tr th:only-of-type {\n",
       "        vertical-align: middle;\n",
       "    }\n",
       "\n",
       "    .dataframe tbody tr th {\n",
       "        vertical-align: top;\n",
       "    }\n",
       "\n",
       "    .dataframe thead th {\n",
       "        text-align: right;\n",
       "    }\n",
       "</style>\n",
       "<table border=\"1\" class=\"dataframe\">\n",
       "  <thead>\n",
       "    <tr style=\"text-align: right;\">\n",
       "      <th></th>\n",
       "      <th>Date</th>\n",
       "      <th>Time</th>\n",
       "      <th>South Dublin - SO2 ug/m3</th>\n",
       "      <th>North Dublin - SO2 ug/m3</th>\n",
       "      <th>Dublin</th>\n",
       "      <th>Month</th>\n",
       "      <th>Season</th>\n",
       "    </tr>\n",
       "  </thead>\n",
       "  <tbody>\n",
       "    <tr>\n",
       "      <th>0</th>\n",
       "      <td>2011-01-01</td>\n",
       "      <td>0</td>\n",
       "      <td>0.3</td>\n",
       "      <td>0.45</td>\n",
       "      <td>0.375</td>\n",
       "      <td>JAN</td>\n",
       "      <td>Winter</td>\n",
       "    </tr>\n",
       "    <tr>\n",
       "      <th>1</th>\n",
       "      <td>2011-01-01</td>\n",
       "      <td>1</td>\n",
       "      <td>2.2</td>\n",
       "      <td>0.20</td>\n",
       "      <td>1.200</td>\n",
       "      <td>JAN</td>\n",
       "      <td>Winter</td>\n",
       "    </tr>\n",
       "    <tr>\n",
       "      <th>2</th>\n",
       "      <td>2011-01-01</td>\n",
       "      <td>2</td>\n",
       "      <td>2.0</td>\n",
       "      <td>0.45</td>\n",
       "      <td>1.225</td>\n",
       "      <td>JAN</td>\n",
       "      <td>Winter</td>\n",
       "    </tr>\n",
       "    <tr>\n",
       "      <th>3</th>\n",
       "      <td>2011-01-01</td>\n",
       "      <td>3</td>\n",
       "      <td>1.7</td>\n",
       "      <td>0.10</td>\n",
       "      <td>0.900</td>\n",
       "      <td>JAN</td>\n",
       "      <td>Winter</td>\n",
       "    </tr>\n",
       "    <tr>\n",
       "      <th>4</th>\n",
       "      <td>2011-01-01</td>\n",
       "      <td>4</td>\n",
       "      <td>1.7</td>\n",
       "      <td>0.45</td>\n",
       "      <td>1.075</td>\n",
       "      <td>JAN</td>\n",
       "      <td>Winter</td>\n",
       "    </tr>\n",
       "  </tbody>\n",
       "</table>\n",
       "</div>"
      ],
      "text/plain": [
       "        Date  Time  South Dublin - SO2 ug/m3  ...  Dublin  Month  Season\n",
       "0 2011-01-01     0                       0.3  ...   0.375    JAN  Winter\n",
       "1 2011-01-01     1                       2.2  ...   1.200    JAN  Winter\n",
       "2 2011-01-01     2                       2.0  ...   1.225    JAN  Winter\n",
       "3 2011-01-01     3                       1.7  ...   0.900    JAN  Winter\n",
       "4 2011-01-01     4                       1.7  ...   1.075    JAN  Winter\n",
       "\n",
       "[5 rows x 7 columns]"
      ]
     },
     "execution_count": 48,
     "metadata": {
      "tags": []
     },
     "output_type": "execute_result"
    }
   ],
   "source": [
    "df.head()"
   ]
  },
  {
   "cell_type": "code",
   "execution_count": null,
   "metadata": {
    "id": "dvD2q7Aj_RPJ"
   },
   "outputs": [],
   "source": [
    "#yearly distribution in south - north and dublin city"
   ]
  },
  {
   "cell_type": "code",
   "execution_count": null,
   "metadata": {
    "id": "WbGgjVKD_q-I"
   },
   "outputs": [],
   "source": [
    "# excel to df and then provide the df,dubin column, pollutant name\n",
    "def hourPlot(pollutant_name):\n",
    "  plot = df.groupby(['Time']).mean().plot(kind='bar', y=['Dublin'], \n",
    "  figsize=(15,10),color = 'cornflowerblue')\n",
    "  plt.title(\"Hour wise Distribution of \"+ pollutant_name +\"(ug/m3) in Dublin for year 2011\")\n",
    "  plt.xlabel(\"Hour (24 hour scale)\")\n",
    "  plt.ylabel(\"Percentage of \"+pollutant_name+\" (ug/m3)\")\n",
    "  for p in plot.patches:\n",
    "    plot.annotate(str(p.get_height())[:5], (p.get_x() * 1.005, p.get_height() * 1.005))"
   ]
  },
  {
   "cell_type": "code",
   "execution_count": null,
   "metadata": {
    "colab": {
     "base_uri": "https://localhost:8080/",
     "height": 618
    },
    "executionInfo": {
     "elapsed": 1392,
     "status": "ok",
     "timestamp": 1610062926069,
     "user": {
      "displayName": "Shubham Katmusare",
      "photoUrl": "https://lh3.googleusercontent.com/a-/AOh14Gj0aHSrsxT_vVgw0JFkHlkM7hbeIKeorp3m9wbC_w=s64",
      "userId": "10929947803019555148"
     },
     "user_tz": 0
    },
    "id": "qFZQsjuFGAwQ",
    "outputId": "ad03e472-51dc-4ac4-8525-0c56092dd61c"
   },
   "outputs": [
    {
     "data": {
      "image/png": "[encoded data removed]",
      "text/plain": [
       "<Figure size 1080x720 with 1 Axes>"
      ]
     },
     "metadata": {
      "needs_background": "light",
      "tags": []
     },
     "output_type": "display_data"
    }
   ],
   "source": [
    "hourPlot(\"SO2\")"
   ]
  },
  {
   "cell_type": "code",
   "execution_count": null,
   "metadata": {
    "id": "26oCqwkIK4IQ"
   },
   "outputs": [],
   "source": [
    "# month wise comparision of the polutant:"
   ]
  },
  {
   "cell_type": "code",
   "execution_count": null,
   "metadata": {
    "colab": {
     "base_uri": "https://localhost:8080/",
     "height": 198
    },
    "executionInfo": {
     "elapsed": 1244,
     "status": "ok",
     "timestamp": 1610061348327,
     "user": {
      "displayName": "Shubham Katmusare",
      "photoUrl": "https://lh3.googleusercontent.com/a-/AOh14Gj0aHSrsxT_vVgw0JFkHlkM7hbeIKeorp3m9wbC_w=s64",
      "userId": "10929947803019555148"
     },
     "user_tz": 0
    },
    "id": "KR7AZr83S6C9",
    "outputId": "b66b80eb-0fad-4325-bb78-60e94f76b579"
   },
   "outputs": [
    {
     "data": {
      "text/html": [
       "<div>\n",
       "<style scoped>\n",
       "    .dataframe tbody tr th:only-of-type {\n",
       "        vertical-align: middle;\n",
       "    }\n",
       "\n",
       "    .dataframe tbody tr th {\n",
       "        vertical-align: top;\n",
       "    }\n",
       "\n",
       "    .dataframe thead th {\n",
       "        text-align: right;\n",
       "    }\n",
       "</style>\n",
       "<table border=\"1\" class=\"dataframe\">\n",
       "  <thead>\n",
       "    <tr style=\"text-align: right;\">\n",
       "      <th></th>\n",
       "      <th>Date</th>\n",
       "      <th>Time</th>\n",
       "      <th>South Dublin - SO2 ug/m3</th>\n",
       "      <th>North Dublin - SO2 ug/m3</th>\n",
       "      <th>Dublin</th>\n",
       "      <th>Month</th>\n",
       "      <th>Season</th>\n",
       "    </tr>\n",
       "  </thead>\n",
       "  <tbody>\n",
       "    <tr>\n",
       "      <th>0</th>\n",
       "      <td>2011-01-01</td>\n",
       "      <td>0</td>\n",
       "      <td>0.3</td>\n",
       "      <td>0.45</td>\n",
       "      <td>0.375</td>\n",
       "      <td>JAN</td>\n",
       "      <td>Winter</td>\n",
       "    </tr>\n",
       "    <tr>\n",
       "      <th>1</th>\n",
       "      <td>2011-01-01</td>\n",
       "      <td>1</td>\n",
       "      <td>2.2</td>\n",
       "      <td>0.20</td>\n",
       "      <td>1.200</td>\n",
       "      <td>JAN</td>\n",
       "      <td>Winter</td>\n",
       "    </tr>\n",
       "    <tr>\n",
       "      <th>2</th>\n",
       "      <td>2011-01-01</td>\n",
       "      <td>2</td>\n",
       "      <td>2.0</td>\n",
       "      <td>0.45</td>\n",
       "      <td>1.225</td>\n",
       "      <td>JAN</td>\n",
       "      <td>Winter</td>\n",
       "    </tr>\n",
       "    <tr>\n",
       "      <th>3</th>\n",
       "      <td>2011-01-01</td>\n",
       "      <td>3</td>\n",
       "      <td>1.7</td>\n",
       "      <td>0.10</td>\n",
       "      <td>0.900</td>\n",
       "      <td>JAN</td>\n",
       "      <td>Winter</td>\n",
       "    </tr>\n",
       "    <tr>\n",
       "      <th>4</th>\n",
       "      <td>2011-01-01</td>\n",
       "      <td>4</td>\n",
       "      <td>1.7</td>\n",
       "      <td>0.45</td>\n",
       "      <td>1.075</td>\n",
       "      <td>JAN</td>\n",
       "      <td>Winter</td>\n",
       "    </tr>\n",
       "  </tbody>\n",
       "</table>\n",
       "</div>"
      ],
      "text/plain": [
       "        Date  Time  South Dublin - SO2 ug/m3  ...  Dublin  Month  Season\n",
       "0 2011-01-01     0                       0.3  ...   0.375    JAN  Winter\n",
       "1 2011-01-01     1                       2.2  ...   1.200    JAN  Winter\n",
       "2 2011-01-01     2                       2.0  ...   1.225    JAN  Winter\n",
       "3 2011-01-01     3                       1.7  ...   0.900    JAN  Winter\n",
       "4 2011-01-01     4                       1.7  ...   1.075    JAN  Winter\n",
       "\n",
       "[5 rows x 7 columns]"
      ]
     },
     "execution_count": 53,
     "metadata": {
      "tags": []
     },
     "output_type": "execute_result"
    }
   ],
   "source": [
    "df.head()"
   ]
  },
  {
   "cell_type": "code",
   "execution_count": null,
   "metadata": {
    "id": "cmOczqI_RcP2"
   },
   "outputs": [],
   "source": [
    "def monthly_southNorthDublin(pollutant_name):\n",
    "  df['South Dublin - SO2 ug/m3'] = df[\"South Dublin - SO2 ug/m3\"]/3\n",
    "  df.groupby(['Month']).mean().plot( y=[\"South Dublin - SO2 ug/m3\", \"North Dublin - SO2 ug/m3\"], kind=\"bar\"\n",
    "  ,figsize=(15,10),color= ['cornflowerblue','orange'])\n",
    "  plt.title(\"Month wise Distribution of \"+ pollutant_name +\"(ug/m3) in Dublin for year 2011\")\n",
    "  plt.ylabel(\"Percentage of \"+pollutant_name+\" (ug/m3)\")\n",
    "  plt.xlabel(\"Month\")\n"
   ]
  },
  {
   "cell_type": "code",
   "execution_count": null,
   "metadata": {
    "colab": {
     "base_uri": "https://localhost:8080/",
     "height": 635
    },
    "executionInfo": {
     "elapsed": 1366,
     "status": "ok",
     "timestamp": 1610061348809,
     "user": {
      "displayName": "Shubham Katmusare",
      "photoUrl": "https://lh3.googleusercontent.com/a-/AOh14Gj0aHSrsxT_vVgw0JFkHlkM7hbeIKeorp3m9wbC_w=s64",
      "userId": "10929947803019555148"
     },
     "user_tz": 0
    },
    "id": "ElKDtlR3Tj2o",
    "outputId": "955e6670-3c81-49b6-968c-58f44a9348a6"
   },
   "outputs": [
    {
     "data": {
      "image/png": "[encoded data removed]",
      "text/plain": [
       "<Figure size 1080x720 with 1 Axes>"
      ]
     },
     "metadata": {
      "needs_background": "light",
      "tags": []
     },
     "output_type": "display_data"
    }
   ],
   "source": [
    "monthly_southNorthDublin(\"SO2\")"
   ]
  },
  {
   "cell_type": "code",
   "execution_count": null,
   "metadata": {
    "id": "Q-pRvB1IWnph"
   },
   "outputs": [],
   "source": [
    "# wekly Analysis:\n",
    "df_week = df\n",
    "df_week = df_week[:8736]"
   ]
  },
  {
   "cell_type": "code",
   "execution_count": null,
   "metadata": {
    "id": "uflYVaQ4lKWz"
   },
   "outputs": [],
   "source": [
    "def convertWeeks():\n",
    "  weeks = []\n",
    "  num= 1\n",
    "  for i in range(1,8737):\n",
    "    weeks.append(num)\n",
    "    if i%168 == 0:\n",
    "      num = num+1\n",
    "  return weeks"
   ]
  },
  {
   "cell_type": "code",
   "execution_count": null,
   "metadata": {
    "colab": {
     "base_uri": "https://localhost:8080/"
    },
    "executionInfo": {
     "elapsed": 1683,
     "status": "ok",
     "timestamp": 1610061350067,
     "user": {
      "displayName": "Shubham Katmusare",
      "photoUrl": "https://lh3.googleusercontent.com/a-/AOh14Gj0aHSrsxT_vVgw0JFkHlkM7hbeIKeorp3m9wbC_w=s64",
      "userId": "10929947803019555148"
     },
     "user_tz": 0
    },
    "id": "Gxmie4uRlmLF",
    "outputId": "34c99519-1511-4910-d95d-003422b3ddd6"
   },
   "outputs": [
    {
     "name": "stderr",
     "output_type": "stream",
     "text": [
      "/usr/local/lib/python3.6/dist-packages/ipykernel_launcher.py:1: SettingWithCopyWarning: \n",
      "A value is trying to be set on a copy of a slice from a DataFrame.\n",
      "Try using .loc[row_indexer,col_indexer] = value instead\n",
      "\n",
      "See the caveats in the documentation: https://pandas.pydata.org/pandas-docs/stable/user_guide/indexing.html#returning-a-view-versus-a-copy\n",
      "  \"\"\"Entry point for launching an IPython kernel.\n"
     ]
    }
   ],
   "source": [
    "df_week['Week'] = convertWeeks()"
   ]
  },
  {
   "cell_type": "code",
   "execution_count": null,
   "metadata": {
    "colab": {
     "base_uri": "https://localhost:8080/",
     "height": 198
    },
    "executionInfo": {
     "elapsed": 1510,
     "status": "ok",
     "timestamp": 1610061350069,
     "user": {
      "displayName": "Shubham Katmusare",
      "photoUrl": "https://lh3.googleusercontent.com/a-/AOh14Gj0aHSrsxT_vVgw0JFkHlkM7hbeIKeorp3m9wbC_w=s64",
      "userId": "10929947803019555148"
     },
     "user_tz": 0
    },
    "id": "G107_PYsn6tf",
    "outputId": "65815dee-c466-464b-f35f-84e060fc2e66"
   },
   "outputs": [
    {
     "data": {
      "text/html": [
       "<div>\n",
       "<style scoped>\n",
       "    .dataframe tbody tr th:only-of-type {\n",
       "        vertical-align: middle;\n",
       "    }\n",
       "\n",
       "    .dataframe tbody tr th {\n",
       "        vertical-align: top;\n",
       "    }\n",
       "\n",
       "    .dataframe thead th {\n",
       "        text-align: right;\n",
       "    }\n",
       "</style>\n",
       "<table border=\"1\" class=\"dataframe\">\n",
       "  <thead>\n",
       "    <tr style=\"text-align: right;\">\n",
       "      <th></th>\n",
       "      <th>Date</th>\n",
       "      <th>Time</th>\n",
       "      <th>South Dublin - SO2 ug/m3</th>\n",
       "      <th>North Dublin - SO2 ug/m3</th>\n",
       "      <th>Dublin</th>\n",
       "      <th>Month</th>\n",
       "      <th>Season</th>\n",
       "      <th>Week</th>\n",
       "    </tr>\n",
       "  </thead>\n",
       "  <tbody>\n",
       "    <tr>\n",
       "      <th>8731</th>\n",
       "      <td>2011-12-30</td>\n",
       "      <td>19</td>\n",
       "      <td>0.100000</td>\n",
       "      <td>0.4</td>\n",
       "      <td>0.05</td>\n",
       "      <td>DEC</td>\n",
       "      <td>Winter</td>\n",
       "      <td>52</td>\n",
       "    </tr>\n",
       "    <tr>\n",
       "      <th>8732</th>\n",
       "      <td>2011-12-30</td>\n",
       "      <td>20</td>\n",
       "      <td>0.033333</td>\n",
       "      <td>0.5</td>\n",
       "      <td>0.20</td>\n",
       "      <td>DEC</td>\n",
       "      <td>Winter</td>\n",
       "      <td>52</td>\n",
       "    </tr>\n",
       "    <tr>\n",
       "      <th>8733</th>\n",
       "      <td>2011-12-30</td>\n",
       "      <td>21</td>\n",
       "      <td>0.100000</td>\n",
       "      <td>0.4</td>\n",
       "      <td>0.05</td>\n",
       "      <td>DEC</td>\n",
       "      <td>Winter</td>\n",
       "      <td>52</td>\n",
       "    </tr>\n",
       "    <tr>\n",
       "      <th>8734</th>\n",
       "      <td>2011-12-30</td>\n",
       "      <td>22</td>\n",
       "      <td>0.033333</td>\n",
       "      <td>0.5</td>\n",
       "      <td>0.20</td>\n",
       "      <td>DEC</td>\n",
       "      <td>Winter</td>\n",
       "      <td>52</td>\n",
       "    </tr>\n",
       "    <tr>\n",
       "      <th>8735</th>\n",
       "      <td>2011-12-30</td>\n",
       "      <td>23</td>\n",
       "      <td>0.100000</td>\n",
       "      <td>0.6</td>\n",
       "      <td>0.15</td>\n",
       "      <td>DEC</td>\n",
       "      <td>Winter</td>\n",
       "      <td>52</td>\n",
       "    </tr>\n",
       "  </tbody>\n",
       "</table>\n",
       "</div>"
      ],
      "text/plain": [
       "           Date  Time  South Dublin - SO2 ug/m3  ...  Month  Season Week\n",
       "8731 2011-12-30    19                  0.100000  ...    DEC  Winter   52\n",
       "8732 2011-12-30    20                  0.033333  ...    DEC  Winter   52\n",
       "8733 2011-12-30    21                  0.100000  ...    DEC  Winter   52\n",
       "8734 2011-12-30    22                  0.033333  ...    DEC  Winter   52\n",
       "8735 2011-12-30    23                  0.100000  ...    DEC  Winter   52\n",
       "\n",
       "[5 rows x 8 columns]"
      ]
     },
     "execution_count": 59,
     "metadata": {
      "tags": []
     },
     "output_type": "execute_result"
    }
   ],
   "source": [
    "df_week.tail()"
   ]
  },
  {
   "cell_type": "code",
   "execution_count": null,
   "metadata": {
    "id": "8cnfuGNLoci0"
   },
   "outputs": [],
   "source": [
    "def weekly_southNorthDublin(pollutant_name):\n",
    "  \n",
    "  df_week.groupby(['Week']).mean().plot( y=[\"South Dublin - SO2 ug/m3\", \"North Dublin - SO2 ug/m3\"], kind=\"line\"\n",
    "  ,figsize=(15,8),color= ['cornflowerblue','orange'],marker ='o')\n",
    "  plt.title(\"Week wise Distribution of \"+ pollutant_name +\"(ug/m3) in Dublin for year 2011\")\n",
    "  plt.ylabel(\"Percentage of \"+pollutant_name+\" (ug/m3)\")\n",
    "  plt.xlabel(\"52 Weeks 2011\")\n",
    "  plt.xticks(range(1, 53))"
   ]
  },
  {
   "cell_type": "code",
   "execution_count": null,
   "metadata": {
    "colab": {
     "base_uri": "https://localhost:8080/",
     "height": 512
    },
    "executionInfo": {
     "elapsed": 2242,
     "status": "ok",
     "timestamp": 1610061351324,
     "user": {
      "displayName": "Shubham Katmusare",
      "photoUrl": "https://lh3.googleusercontent.com/a-/AOh14Gj0aHSrsxT_vVgw0JFkHlkM7hbeIKeorp3m9wbC_w=s64",
      "userId": "10929947803019555148"
     },
     "user_tz": 0
    },
    "id": "mULK-mL2owGc",
    "outputId": "461e341f-543f-4ff8-844d-e36f26f6c137"
   },
   "outputs": [
    {
     "data": {
      "image/png": "[encoded data removed]",
      "text/plain": [
       "<Figure size 1080x576 with 1 Axes>"
      ]
     },
     "metadata": {
      "needs_background": "light",
      "tags": []
     },
     "output_type": "display_data"
    }
   ],
   "source": [
    "weekly_southNorthDublin(\"SO2\")"
   ]
  },
  {
   "cell_type": "code",
   "execution_count": null,
   "metadata": {
    "id": "Lcbn1jRxozKr"
   },
   "outputs": [],
   "source": [
    "#seasonal polution index"
   ]
  },
  {
   "cell_type": "code",
   "execution_count": null,
   "metadata": {
    "id": "1fe1AbeO6mZi"
   },
   "outputs": [],
   "source": [
    "def seasonal_southNorthDublin(pollutant_name):\n",
    "  df.groupby(['Season']).sum().plot( y=\"Dublin\", kind=\"pie\"\n",
    "  , shadow = True,subplots=True, startangle=90,figsize=(15,10), autopct='%1.1f%%',colors= ['cornflowerblue','orange','green'])\n",
    "  plt.title(\"Season wise Distribution of \"+ pollutant_name +\"(ug/m3) in Dublin for year 2011\")\n",
    "  #plt.xlabel('Seasons - 2011 : Percentage of '+pollutant_name+\" (ug/m3)\")\n",
    "  \n",
    "  "
   ]
  },
  {
   "cell_type": "code",
   "execution_count": null,
   "metadata": {
    "colab": {
     "base_uri": "https://localhost:8080/",
     "height": 591
    },
    "executionInfo": {
     "elapsed": 995,
     "status": "ok",
     "timestamp": 1610068683037,
     "user": {
      "displayName": "Shubham Katmusare",
      "photoUrl": "https://lh3.googleusercontent.com/a-/AOh14Gj0aHSrsxT_vVgw0JFkHlkM7hbeIKeorp3m9wbC_w=s64",
      "userId": "10929947803019555148"
     },
     "user_tz": 0
    },
    "id": "3z0U_dEC7gvg",
    "outputId": "56cde1be-6e5e-4dce-e4ae-89a43e5a1eb4"
   },
   "outputs": [
    {
     "data": {
      "image/png": "[encoded data removed]",
      "text/plain": [
       "<Figure size 1080x720 with 1 Axes>"
      ]
     },
     "metadata": {
      "tags": []
     },
     "output_type": "display_data"
    }
   ],
   "source": [
    "seasonal_southNorthDublin('SO2')"
   ]
  },
  {
   "cell_type": "code",
   "execution_count": null,
   "metadata": {
    "id": "32JIaoTc7jj8"
   },
   "outputs": [],
   "source": []
  }
 ],
 "metadata": {
  "colab": {
   "collapsed_sections": [],
   "name": "viz_so2.ipynb",
   "provenance": []
  },
  "kernelspec": {
   "display_name": "Python 3",
   "language": "python",
   "name": "python3"
  },
  "language_info": {
   "codemirror_mode": {
    "name": "ipython",
    "version": 3
   },
   "file_extension": ".py",
   "mimetype": "text/x-python",
   "name": "python",
   "nbconvert_exporter": "python",
   "pygments_lexer": "ipython3",
   "version": "3.7.4"
  }
 },
 "nbformat": 4,
 "nbformat_minor": 1
}
