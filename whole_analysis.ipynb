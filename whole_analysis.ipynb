{
 "cells": [
  {
   "cell_type": "code",
   "execution_count": 5,
   "metadata": {
    "colab": {
     "base_uri": "https://localhost:8080/"
    },
    "executionInfo": {
     "elapsed": 444,
     "status": "ok",
     "timestamp": 1610061370385,
     "user": {
      "displayName": "Shubham Katmusare",
      "photoUrl": "https://lh3.googleusercontent.com/a-/AOh14Gj0aHSrsxT_vVgw0JFkHlkM7hbeIKeorp3m9wbC_w=s64",
      "userId": "10929947803019555148"
     },
     "user_tz": 0
    },
    "id": "VuhpBiQiJy2h",
    "outputId": "65525227-c602-470d-a9a5-12ace8adee1d"
   },
   "outputs": [
    {
     "name": "stdout",
     "output_type": "stream",
     "text": [
      "/content/drive/MyDrive/Colab_Notebooks/NCI/DAP- CA1/DAP\n"
     ]
    }
   ],
   "source": [
    "%cd /content/drive/MyDrive/Colab_Notebooks/NCI/DAP- CA1/DAP"
   ]
  },
  {
   "cell_type": "code",
   "execution_count": 6,
   "metadata": {
    "colab": {
     "base_uri": "https://localhost:8080/",
     "height": 262
    },
    "executionInfo": {
     "elapsed": 4033,
     "status": "ok",
     "timestamp": 1610061374369,
     "user": {
      "displayName": "Shubham Katmusare",
      "photoUrl": "https://lh3.googleusercontent.com/a-/AOh14Gj0aHSrsxT_vVgw0JFkHlkM7hbeIKeorp3m9wbC_w=s64",
      "userId": "10929947803019555148"
     },
     "user_tz": 0
    },
    "id": "_CjesgK5KHcm",
    "outputId": "59ab1bc6-d415-4330-f61f-f139d40d7b16"
   },
   "outputs": [
    {
     "data": {
      "image/png": "[encoded data removed]",
      "text/plain": [
       "<Figure size 432x288 with 1 Axes>"
      ]
     },
     "metadata": {
      "tags": []
     },
     "output_type": "display_data"
    }
   ],
   "source": [
    "import pandas as pd\n",
    "import matplotlib.pyplot as plt\n",
    "NO2 = pd.read_excel('no-no2.xlsx')\n",
    "dublinNO2 = NO2['Dublin']\n",
    "dublinNO2 = dublinNO2[:8736]\n",
    "Date = NO2['Date']\n",
    "Time = NO2['Time']\n",
    "SO2 = pd.read_excel('SO2.xlsx')\n",
    "dublinSO2 = SO2['Dublin']\n",
    "dublinSO2 = dublinSO2[:8736]\n",
    "CO = pd.read_excel('co.xlsx')\n",
    "dublinCO = CO['Dublin']\n",
    "dublinCO = dublinCO[:8736]\n",
    "data = {'Date' : Date,\n",
    "        'Time' : Time,\n",
    "    'dublinNO2':dublinNO2,\n",
    "        'dublinSO2':dublinSO2,\n",
    "        'dublinCO' : dublinCO,\n",
    "        }\n",
    "df = pd.DataFrame(data)\n",
    "meanList= []\n",
    "meanList.append(df['dublinNO2'].mean()/30)\n",
    "meanList.append(df['dublinSO2'].mean())\n",
    "meanList.append(df['dublinCO'].mean())\n",
    "import matplotlib.pyplot as plt\n",
    " \n",
    "# create data\n",
    "names='dublinNO2', 'dublinSO2', 'dublinCO'\n",
    "size=meanList\n",
    " \n",
    "# Create a circle for the center of the plot\n",
    "my_circle=plt.Circle( (0,0), 0.7, color='white')\n",
    "\n",
    "# Give color names\n",
    "plt.pie(size, labels=names, colors=['red','green','blue','skyblue'])\n",
    "p=plt.gcf()\n",
    "p.gca().add_artist(my_circle)\n",
    "plt.xlabel(\"Percentage conribution to annual polution (ug/m3) of Dublin in 2011\")\n",
    "plt.show()\n",
    "\n"
   ]
  },
  {
   "cell_type": "code",
   "execution_count": null,
   "metadata": {
    "id": "ANsyj74_Xq1F"
   },
   "outputs": [],
   "source": []
  }
 ],
 "metadata": {
  "colab": {
   "authorship_tag": "ABX9TyPeCBawYA0qEIiwzCeAEOpD",
   "collapsed_sections": [],
   "mount_file_id": "1bn2QSRkdXMI6PsNNpvks-nNOZuipAdpH",
   "name": "whole_analysis.ipynb",
   "provenance": []
  },
  "kernelspec": {
   "display_name": "Python 3",
   "language": "python",
   "name": "python3"
  },
  "language_info": {
   "codemirror_mode": {
    "name": "ipython",
    "version": 3
   },
   "file_extension": ".py",
   "mimetype": "text/x-python",
   "name": "python",
   "nbconvert_exporter": "python",
   "pygments_lexer": "ipython3",
   "version": "3.7.4"
  }
 },
 "nbformat": 4,
 "nbformat_minor": 1
}
